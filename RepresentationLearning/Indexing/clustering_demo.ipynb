{
 "cells": [
  {
   "cell_type": "code",
   "execution_count": 29,
   "metadata": {},
   "outputs": [],
   "source": [
    "import numpy as np\n",
    "from numpy.typing import NDArray\n",
    "from clustering import K_Means\n",
    "\n",
    "\n",
    "# define random clustered data creation\n",
    "def make_clustered_blobs(num_clusters: int, points_per_cluster:int=50, radius=0.25) -> NDArray:\n",
    "    cluster_centers = np.random.rand(num_clusters, 2)\n",
    "    vectors = np.zeros((num_clusters * points_per_cluster, 2))\n",
    "    for i in range(num_clusters):\n",
    "        r = radius * np.random.rand(points_per_cluster)\n",
    "        theta = 2 * np.pi * np.random.rand(points_per_cluster)\n",
    "        x = cluster_centers[i,0] + r * np.cos(theta)\n",
    "        y = cluster_centers[i,1] + r * np.sin(theta)\n",
    "        points = np.vstack((x, y)).T\n",
    "        start = i * points_per_cluster\n",
    "        end = (i+1) * points_per_cluster\n",
    "        # print(start, end, points.shape)\n",
    "        vectors[start:end, :] = points\n",
    "    return vectors"
   ]
  },
  {
   "cell_type": "code",
   "execution_count": 31,
   "metadata": {},
   "outputs": [
    {
     "name": "stdout",
     "output_type": "stream",
     "text": [
      "(100, 2)\n",
      "0\t 0.2382 [[0.12929669 1.13905342]\n",
      " [0.3411778  0.52044617]]\n",
      "1\t 0.0393 [[0.11006509 0.96648593]\n",
      " [0.25832403 0.2291501 ]]\n",
      "2\t 0.0000 [[0.12361596 0.94963747]\n",
      " [0.25959905 0.17226498]]\n",
      "[[0.12361596 0.94963747]\n",
      " [0.25959905 0.17226498]]\n"
     ]
    },
    {
     "data": {
      "image/png": "[encoded data removed]",
      "text/plain": [
       "<Figure size 720x720 with 1 Axes>"
      ]
     },
     "metadata": {
      "needs_background": "light"
     },
     "output_type": "display_data"
    }
   ],
   "source": [
    "num_clusters = 2\n",
    "\n",
    "vectors = make_clustered_blobs(num_clusters=num_clusters)\n",
    "print(vectors.shape)\n",
    "k_means = K_Means(vectors, \n",
    "                  num_clusters=num_clusters)\n",
    "\n",
    "k_means.fit()\n",
    "cluster_centers = k_means.get_cluster_centers()\n",
    "print(cluster_centers)\n",
    "\n",
    "# plot|\n",
    "import matplotlib.pyplot as plt\n",
    "fig = plt.figure(figsize=(10,10))\n",
    "# make scatter plot of all data points\n",
    "plt.scatter(vectors[:,0], vectors[:,1], marker='o', c='blue')\n",
    "# plot the centers\n",
    "plt.plot(cluster_centers[0,0], cluster_centers[0,1], 'r^', markersize=20)\n",
    "plt.plot(cluster_centers[1,0], cluster_centers[1,1], 'g^', markersize=20)\n",
    "plt.show()\n",
    "\n"
   ]
  },
  {
   "cell_type": "code",
   "execution_count": null,
   "metadata": {},
   "outputs": [],
   "source": []
  }
 ],
 "metadata": {
  "kernelspec": {
   "display_name": "deepkp_cuda_11",
   "language": "python",
   "name": "python3"
  },
  "language_info": {
   "codemirror_mode": {
    "name": "ipython",
    "version": 3
   },
   "file_extension": ".py",
   "mimetype": "text/x-python",
   "name": "python",
   "nbconvert_exporter": "python",
   "pygments_lexer": "ipython3",
   "version": "3.7.12"
  }
 },
 "nbformat": 4,
 "nbformat_minor": 2
}
