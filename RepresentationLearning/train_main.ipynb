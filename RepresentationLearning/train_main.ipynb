{
 "cells": [
  {
   "cell_type": "markdown",
   "metadata": {},
   "source": [
    "# Metric Learning vs Classification\n",
    "\n",
    "My goal is to see the benefit of metric learning for retrieval tasks as opposed to a simple classification task. I will train a simpleCNN model with different metric losses to see how it affects the clustering of the data. \n",
    "\n",
    "I chose CIFAR10 dataset for carrying out this experiment and visualize the embeddings using UMAP. This experiment was motivated by reading the wonderful survey -- https://hav4ik.github.io/articles/deep-metric-learning-survey"
   ]
  },
  {
   "cell_type": "markdown",
   "metadata": {},
   "source": [
    "## Experiments:\n",
    "- [Classification](./train_classification.ipynb)\n",
    "- [Metric Learning with Contrastive Loss](./train_contrastive.ipynb)\n",
    "- [Metric Learning with Triplet Loss](./train_triplet.ipynb)\n",
    "<!-- - [Metric Learning with Triplet Loss and Hard Negative Mining](./train_triplet_hard_neg_mining.ipynb) -->\n",
    "<!-- - [Metric Learning with Triplet Loss, Center Loss and Hard Negative Mining](./train_triplet_hard_neg_mining_and_center_loss.ipynb) -->\n",
    "<!-- - [Metric Learning with Quadruplet Loss](./train_quadruplet.ipynb) -->\n",
    "\n"
   ]
  }
 ],
 "metadata": {
  "kernelspec": {
   "display_name": "Python 3 (ipykernel)",
   "language": "python",
   "name": "python3"
  },
  "language_info": {
   "codemirror_mode": {
    "name": "ipython",
    "version": 3
   },
   "file_extension": ".py",
   "mimetype": "text/x-python",
   "name": "python",
   "nbconvert_exporter": "python",
   "pygments_lexer": "ipython3",
   "version": "3.7.12"
  }
 },
 "nbformat": 4,
 "nbformat_minor": 2
}
